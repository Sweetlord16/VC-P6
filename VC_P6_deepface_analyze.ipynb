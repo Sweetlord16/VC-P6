{
 "cells": [
  {
   "cell_type": "code",
   "execution_count": 1,
   "id": "4442edb1",
   "metadata": {},
   "outputs": [],
   "source": [
    "import os\n",
    "import cv2\n",
    "from deepface import DeepFace\n",
    "\n"
   ]
  },
  {
   "cell_type": "markdown",
   "id": "c6fd4a50",
   "metadata": {},
   "source": [
    "# Process image folder"
   ]
  },
  {
   "cell_type": "code",
   "execution_count": 9,
   "id": "frank-length",
   "metadata": {},
   "outputs": [
    {
     "name": "stdout",
     "output_type": "stream",
     "text": [
      "./faces\n"
     ]
    },
    {
     "name": "stderr",
     "output_type": "stream",
     "text": [
      "Action: emotion: 100%|██████████| 4/4 [00:01<00:00,  2.38it/s]\n"
     ]
    },
    {
     "name": "stdout",
     "output_type": "stream",
     "text": [
      "face.jpg\n",
      "{'x': 168, 'y': 206, 'w': 685, 'h': 685}\n",
      "31\n",
      "{'Woman': 99.96367692947388, 'Man': 0.036322182859294116}\n",
      "{'asian': 99.88231062889099, 'indian': 0.04763623001053929, 'black': 2.1404525796242524e-05, 'white': 0.0020860274162259884, 'middle eastern': 4.271668530009265e-06, 'latino hispanic': 0.06794218206778169}\n",
      "asian\n",
      "{'angry': 5.67243162163944e-09, 'disgust': 1.2498665451463863e-17, 'fear': 4.903091127550496e-09, 'happy': 98.28951358795166, 'sad': 1.6383581158407878e-07, 'surprise': 0.0023081125618773513, 'neutral': 1.7081791535019875}\n",
      "happy\n"
     ]
    },
    {
     "name": "stderr",
     "output_type": "stream",
     "text": [
      "Action: emotion: 100%|██████████| 4/4 [00:01<00:00,  2.73it/s]\n"
     ]
    },
    {
     "name": "stdout",
     "output_type": "stream",
     "text": [
      "face2.jpg\n",
      "{'x': 162, 'y': 215, 'w': 690, 'h': 690}\n",
      "33\n",
      "{'Woman': 0.0032345276849810034, 'Man': 99.99676942825317}\n",
      "{'asian': 5.3212885882458636e-05, 'indian': 9.247350226752416e-06, 'black': 2.676072155715015e-07, 'white': 99.95562434725471, 'middle eastern': 0.020072896376409813, 'latino hispanic': 0.024233049792861217}\n",
      "white\n",
      "{'angry': 8.862521383434796e-07, 'disgust': 1.4376012587389436e-11, 'fear': 5.715137252337854e-07, 'happy': 99.99663829803467, 'sad': 1.8166746995618155e-07, 'surprise': 1.985750452959678e-07, 'neutral': 0.003360742630320601}\n",
      "happy\n"
     ]
    },
    {
     "name": "stderr",
     "output_type": "stream",
     "text": [
      "Action: emotion: 100%|██████████| 4/4 [00:01<00:00,  2.47it/s]"
     ]
    },
    {
     "name": "stdout",
     "output_type": "stream",
     "text": [
      "happy.jpg\n",
      "{'x': 114, 'y': 92, 'w': 172, 'h': 172}\n",
      "33\n",
      "{'Woman': 0.7492872886359692, 'Man': 99.25071597099304}\n",
      "{'asian': 0.21307447459548712, 'indian': 0.18618986941874027, 'black': 0.013073197624180466, 'white': 67.57243275642395, 'middle eastern': 9.647393226623535, 'latino hispanic': 22.36783802509308}\n",
      "white\n",
      "{'angry': 7.674751806296953e-09, 'disgust': 4.996208122947852e-17, 'fear': 7.288443225415397e-14, 'happy': 99.99966621398926, 'sad': 9.893928124699025e-11, 'surprise': 1.8002191751187446e-09, 'neutral': 0.0003346118774061324}\n",
      "happy\n"
     ]
    },
    {
     "name": "stderr",
     "output_type": "stream",
     "text": [
      "\n"
     ]
    }
   ],
   "source": [
    "folder = './faces'\n",
    "\n",
    "print(folder)\n",
    "\n",
    "for file_name in os.listdir(folder):\n",
    "    # Asume imágenes en formato png o jpg\n",
    "    if file_name.endswith('.png') or file_name.endswith('.jpg'):\n",
    "        # Procesa la imagen que asume hay cara, no fuerza la detección\n",
    "        obj = DeepFace.analyze(img_path = os.path.join(folder, file_name), enforce_detection=False, actions =['age', 'gender', 'race', 'emotion'])\n",
    "        print(file_name)\n",
    "        # Acceder al primer elemento de la lista (el único elemento en este caso)\n",
    "        elemento = obj[0]\n",
    "\n",
    "        # Imprimir los valores de las claves 'region', 'age', 'gender', 'race', 'dominant_race', 'emotion', 'dominant_emotion'\n",
    "        print(elemento[\"region\"])\n",
    "        print(elemento[\"age\"])\n",
    "        print(elemento[\"gender\"])\n",
    "        print(elemento[\"race\"])\n",
    "        print(elemento[\"dominant_race\"])\n",
    "        print(elemento[\"emotion\"])\n",
    "        print(elemento[\"dominant_emotion\"])\n",
    "\n",
    "        \n"
   ]
  },
  {
   "cell_type": "code",
   "execution_count": null,
   "id": "6b1843aa",
   "metadata": {},
   "outputs": [],
   "source": [
    "import cv2\n",
    "import numpy as np\n",
    "import FaceNormalizationUtils as faceutils\n",
    "import FaceDetectors\n",
    "import random\n",
    "import time\n",
    "import pygame\n",
    "\n",
    "# Global variables\n",
    "changing_images = False\n",
    "last_image_change_time = time.time()\n",
    "image_change_duration = 5  # Change the image every 10 seconds\n",
    "current_image_index = 0\n",
    "time_remaining = image_change_duration  # Initialize time_remaining\n",
    "\n",
    "# Function to handle mouse click events\n",
    "def on_mouse_click(event, x, y, flags, param):\n",
    "    global changing_images, last_image_change_time, time_remaining\n",
    "    if event == cv2.EVENT_LBUTTONDOWN:  # Left mouse button click\n",
    "        changing_images = True\n",
    "        last_image_change_time = time.time()\n",
    "        time_remaining = image_change_duration  # Reset time_remaining\n",
    "\n",
    "# Normalizador HS\n",
    "normalizatorHS = faceutils.Normalization()\n",
    "\n",
    "# Face detectors interface\n",
    "FDet = FaceDetectors.FaceDetector()\n",
    "\n",
    "# Inicializa la captura de la webcam\n",
    "cap = cv2.VideoCapture(0)\n",
    "\n",
    "# Variables para el manejo de la ruleta de imágenes\n",
    "image_paths = ['africa.png', 'america.png', 'asian.jpg','europa.jpg',\"latino.png\"]  \n",
    "songs_paths =[\n",
    "    \"Y2meta.app - 'City of Stars' (Duet ft. Ryan Gosling, Emma Stone) - La La Land Original Motion Picture Soundtrack (128 kbps).mp3\",\n",
    "    'you-look-lonely-i-can-fix-that-128-ytshorts.savetube.me.mp3',\n",
    "    'Y2meta.app - Kavinsky - Nightcall letra Ingles_Español (128 kbps).mp3',\n",
    "    \"Y2meta.app - Ryan Gosling - I'm Just Ken (From Barbie The Album) [Official Audio] (128 kbps).mp3\",\n",
    "\n",
    "]\n",
    "\n",
    "# Initialize roulette_image before entering the while loop\n",
    "roulette_image = cv2.imread(image_paths[current_image_index])\n",
    "\n",
    "pygame.mixer.init()\n",
    "\n",
    "# Create a window to capture mouse events\n",
    "cv2.namedWindow('Webcam')\n",
    "cv2.setMouseCallback('Webcam', on_mouse_click)\n",
    "\n",
    "while True:\n",
    "    ret, frame = cap.read()\n",
    "\n",
    "    if not ret:\n",
    "        break\n",
    "\n",
    "    # Calculate time remaining until image change\n",
    "    time_remaining = max(0, image_change_duration - (time.time() - last_image_change_time))\n",
    "\n",
    "    # Detección de rostros en el frame de la webcam\n",
    "    values = FDet.SingleFaceEyesDetection(frame, FDet.FaceDetectors[1], FDet.EyeDetectors[1])\n",
    "  \n",
    "    if values is not None:\n",
    "        face = values[0]\n",
    "        x, y, w, h = face\n",
    "        if w > 0 and h > 0:\n",
    "            if roulette_image is not None:\n",
    "                print(\"dentro\")\n",
    "                print(roulette_image)\n",
    "   \n",
    "                # Calculate the position for the superimposed face image above the detected face\n",
    "                y_offset = max(0, y - h)  # Place it above the detected face\n",
    "                x_offset = x\n",
    "\n",
    "                             # Resize the face image to match the size of the detected face\n",
    "                resized_face_image = cv2.resize(roulette_image, (w, h))\n",
    "\n",
    "                cv2.putText(frame, f\"Which Ryan Gosling are you?\", (x_offset-125, y_offset-25), cv2.FONT_HERSHEY_SIMPLEX, 1.0, (0, 0, 0), 2)\n",
    "                # Superpose the resized face image on the frame\n",
    "                frame[y_offset:y_offset + h, x_offset:x_offset + w] = resized_face_image\n",
    "\n",
    "    \n",
    "    if changing_images:\n",
    "\n",
    "        if current_image_index == len(image_paths):\n",
    "            current_image_index = 0\n",
    "        if time_remaining == 0:\n",
    "            print(\"THE TIME HAS COME\")\n",
    "            print(\"--------------------------------------\")\n",
    "            print(\"Indice\")\n",
    "            print(current_image_index)\n",
    "            \n",
    "            print(\"--------------------------------------\")\n",
    "            changing_images = False\n",
    "            last_image_change_time = time.time()\n",
    "            current_image_index = random.randint(0, len(image_paths)-1)\n",
    "            pygame.mixer.music.load(songs_paths[current_image_index])  # Replace with your music file\n",
    "            pygame.mixer.music.play(-1)\n",
    "        print(\"AQUI LLEGAMOS JEFE\")\n",
    "        print(\"--------------------------------------\")\n",
    "        print(\"Indice\")\n",
    "        print(current_image_index)\n",
    "        \n",
    "        print(image_paths[current_image_index])\n",
    "        roulette_image = cv2.imread(image_paths[current_image_index])\n",
    "        \n",
    "        print(roulette_image)\n",
    "\n",
    "        \n",
    "        \n",
    "        print(roulette_image)\n",
    "        current_image_index += 1\n",
    "        print(\"--------------------------------------\")\n",
    "\n",
    "            \n",
    "\n",
    "    cv2.imshow('Webcam', frame)\n",
    "\n",
    "    key = cv2.waitKey(1)\n",
    "    if key & 0xFF == 27:  # Press Esc to exit\n",
    "        # Stop the music when your program is done\n",
    "        pygame.mixer.music.stop()\n",
    "        break\n",
    "\n",
    "cap.release()\n",
    "cv2.destroyAllWindows()\n"
   ]
  }
 ],
 "metadata": {
  "kernelspec": {
   "display_name": "Python 3.9.0 ('deepface')",
   "language": "python",
   "name": "python3"
  },
  "language_info": {
   "codemirror_mode": {
    "name": "ipython",
    "version": 3
   },
   "file_extension": ".py",
   "mimetype": "text/x-python",
   "name": "python",
   "nbconvert_exporter": "python",
   "pygments_lexer": "ipython3",
   "version": "3.9.0"
  },
  "vscode": {
   "interpreter": {
    "hash": "12028effb1af0cd2244438ff9b17d06bb1d7695ec7a554a144e43ec4b8b79006"
   }
  }
 },
 "nbformat": 4,
 "nbformat_minor": 5
}
